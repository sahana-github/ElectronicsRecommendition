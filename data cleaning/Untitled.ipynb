{
 "cells": [
  {
   "cell_type": "code",
   "execution_count": 70,
   "metadata": {},
   "outputs": [],
   "source": [
    "import pandas as pd\n",
    "import numpy as np\n"
   ]
  },
  {
   "cell_type": "code",
   "execution_count": 71,
   "id": "ef86e636",
   "metadata": {},
   "outputs": [],
   "source": [
    "phone=pd.read_excel(\"Phone.xlsx\")\n",
    "laptop=pd.read_excel(\"laptop.xlsx\")\n",
    "tablet=pd.read_excel(\"tablets.xlsx\")"
   ]
  },
  {
   "cell_type": "code",
   "execution_count": 72,
   "id": "dced94ae",
   "metadata": {},
   "outputs": [
    {
     "data": {
      "text/html": [
       "<div>\n",
       "<style scoped>\n",
       "    .dataframe tbody tr th:only-of-type {\n",
       "        vertical-align: middle;\n",
       "    }\n",
       "\n",
       "    .dataframe tbody tr th {\n",
       "        vertical-align: top;\n",
       "    }\n",
       "\n",
       "    .dataframe thead th {\n",
       "        text-align: right;\n",
       "    }\n",
       "</style>\n",
       "<table border=\"1\" class=\"dataframe\">\n",
       "  <thead>\n",
       "    <tr style=\"text-align: right;\">\n",
       "      <th></th>\n",
       "      <th>Title</th>\n",
       "      <th>Ratings</th>\n",
       "      <th>Before_Price</th>\n",
       "      <th>After_Price</th>\n",
       "      <th>Image</th>\n",
       "    </tr>\n",
       "  </thead>\n",
       "  <tbody>\n",
       "    <tr>\n",
       "      <th>0</th>\n",
       "      <td>realme GT Neo 3 (150W) (Sprint White, 12GB RAM...</td>\n",
       "      <td>551</td>\n",
       "      <td>₹45,999</td>\n",
       "      <td>24,749</td>\n",
       "      <td>https://m.media-amazon.com/images/I/51P-7qmHo6...</td>\n",
       "    </tr>\n",
       "    <tr>\n",
       "      <th>1</th>\n",
       "      <td>Beetel X73 Cordless 2.4Ghz Landline Phone with...</td>\n",
       "      <td>10,610</td>\n",
       "      <td>₹2,799</td>\n",
       "      <td>1,990</td>\n",
       "      <td>https://m.media-amazon.com/images/I/71ULvhJssw...</td>\n",
       "    </tr>\n",
       "    <tr>\n",
       "      <th>2</th>\n",
       "      <td>iQOO Z9 5G (Brushed Green, 8GB RAM, 256GB Stor...</td>\n",
       "      <td>2,643</td>\n",
       "      <td>₹26,999</td>\n",
       "      <td>21,999</td>\n",
       "      <td>https://m.media-amazon.com/images/I/61pt59LW-l...</td>\n",
       "    </tr>\n",
       "    <tr>\n",
       "      <th>3</th>\n",
       "      <td>Samsung Galaxy M14 5G (Smoky Teal,4GB,128GB)|5...</td>\n",
       "      <td>23,744</td>\n",
       "      <td>₹17,990</td>\n",
       "      <td>9,490</td>\n",
       "      <td>https://m.media-amazon.com/images/I/818VqDSKpC...</td>\n",
       "    </tr>\n",
       "    <tr>\n",
       "      <th>4</th>\n",
       "      <td>realme 12 Pro+ 5G (Submarine Blue, 8GB RAM, 12...</td>\n",
       "      <td>34</td>\n",
       "      <td>₹34,999</td>\n",
       "      <td>27,344</td>\n",
       "      <td>https://m.media-amazon.com/images/I/81ozhmBGVN...</td>\n",
       "    </tr>\n",
       "  </tbody>\n",
       "</table>\n",
       "</div>"
      ],
      "text/plain": [
       "                                               Title Ratings Before_Price  \\\n",
       "0  realme GT Neo 3 (150W) (Sprint White, 12GB RAM...     551      ₹45,999   \n",
       "1  Beetel X73 Cordless 2.4Ghz Landline Phone with...  10,610       ₹2,799   \n",
       "2  iQOO Z9 5G (Brushed Green, 8GB RAM, 256GB Stor...   2,643      ₹26,999   \n",
       "3  Samsung Galaxy M14 5G (Smoky Teal,4GB,128GB)|5...  23,744      ₹17,990   \n",
       "4  realme 12 Pro+ 5G (Submarine Blue, 8GB RAM, 12...      34      ₹34,999   \n",
       "\n",
       "  After_Price                                              Image  \n",
       "0      24,749  https://m.media-amazon.com/images/I/51P-7qmHo6...  \n",
       "1       1,990  https://m.media-amazon.com/images/I/71ULvhJssw...  \n",
       "2      21,999  https://m.media-amazon.com/images/I/61pt59LW-l...  \n",
       "3       9,490  https://m.media-amazon.com/images/I/818VqDSKpC...  \n",
       "4      27,344  https://m.media-amazon.com/images/I/81ozhmBGVN...  "
      ]
     },
     "execution_count": 72,
     "metadata": {},
     "output_type": "execute_result"
    }
   ],
   "source": [
    "phone.head()\n"
   ]
  },
  {
   "cell_type": "code",
   "execution_count": 73,
   "id": "143ae8a5",
   "metadata": {},
   "outputs": [
    {
     "data": {
      "text/html": [
       "<div>\n",
       "<style scoped>\n",
       "    .dataframe tbody tr th:only-of-type {\n",
       "        vertical-align: middle;\n",
       "    }\n",
       "\n",
       "    .dataframe tbody tr th {\n",
       "        vertical-align: top;\n",
       "    }\n",
       "\n",
       "    .dataframe thead th {\n",
       "        text-align: right;\n",
       "    }\n",
       "</style>\n",
       "<table border=\"1\" class=\"dataframe\">\n",
       "  <thead>\n",
       "    <tr style=\"text-align: right;\">\n",
       "      <th></th>\n",
       "      <th>Title</th>\n",
       "      <th>Ratings</th>\n",
       "      <th>After_Price</th>\n",
       "      <th>Image</th>\n",
       "    </tr>\n",
       "  </thead>\n",
       "  <tbody>\n",
       "    <tr>\n",
       "      <th>0</th>\n",
       "      <td>Hp Everyday Essential 17 FHD Laptop • Free Mic...</td>\n",
       "      <td>72</td>\n",
       "      <td>699</td>\n",
       "      <td>https://m.media-amazon.com/images/I/818CTxQVMH...</td>\n",
       "    </tr>\n",
       "    <tr>\n",
       "      <th>1</th>\n",
       "      <td>Lenovo 11.6\" 300e Chromebook Touchscreen LCD 2...</td>\n",
       "      <td>2,037</td>\n",
       "      <td>94</td>\n",
       "      <td>https://m.media-amazon.com/images/I/812k3mDHXj...</td>\n",
       "    </tr>\n",
       "    <tr>\n",
       "      <th>2</th>\n",
       "      <td>ASUS C424MA-AS48F Chromebook C424, 14.0\" 180 D...</td>\n",
       "      <td>307</td>\n",
       "      <td>199</td>\n",
       "      <td>https://m.media-amazon.com/images/I/71DL+S6ihB...</td>\n",
       "    </tr>\n",
       "    <tr>\n",
       "      <th>3</th>\n",
       "      <td>HP Victus 15 Gaming Laptop, 15.6\" FHD 144Hz Di...</td>\n",
       "      <td>619</td>\n",
       "      <td>647</td>\n",
       "      <td>https://m.media-amazon.com/images/I/71juF7A+Ms...</td>\n",
       "    </tr>\n",
       "    <tr>\n",
       "      <th>4</th>\n",
       "      <td>Lenovo Newest Flagship Chromebook, 14'' FHD To...</td>\n",
       "      <td>292</td>\n",
       "      <td>235</td>\n",
       "      <td>https://m.media-amazon.com/images/I/61KlKRdsQ7...</td>\n",
       "    </tr>\n",
       "  </tbody>\n",
       "</table>\n",
       "</div>"
      ],
      "text/plain": [
       "                                               Title Ratings After_Price  \\\n",
       "0  Hp Everyday Essential 17 FHD Laptop • Free Mic...      72         699   \n",
       "1  Lenovo 11.6\" 300e Chromebook Touchscreen LCD 2...   2,037          94   \n",
       "2  ASUS C424MA-AS48F Chromebook C424, 14.0\" 180 D...     307         199   \n",
       "3  HP Victus 15 Gaming Laptop, 15.6\" FHD 144Hz Di...     619         647   \n",
       "4  Lenovo Newest Flagship Chromebook, 14'' FHD To...     292         235   \n",
       "\n",
       "                                               Image  \n",
       "0  https://m.media-amazon.com/images/I/818CTxQVMH...  \n",
       "1  https://m.media-amazon.com/images/I/812k3mDHXj...  \n",
       "2  https://m.media-amazon.com/images/I/71DL+S6ihB...  \n",
       "3  https://m.media-amazon.com/images/I/71juF7A+Ms...  \n",
       "4  https://m.media-amazon.com/images/I/61KlKRdsQ7...  "
      ]
     },
     "execution_count": 73,
     "metadata": {},
     "output_type": "execute_result"
    }
   ],
   "source": [
    "laptop.head()"
   ]
  },
  {
   "cell_type": "code",
   "execution_count": 74,
   "id": "25299623",
   "metadata": {},
   "outputs": [
    {
     "data": {
      "text/html": [
       "<div>\n",
       "<style scoped>\n",
       "    .dataframe tbody tr th:only-of-type {\n",
       "        vertical-align: middle;\n",
       "    }\n",
       "\n",
       "    .dataframe tbody tr th {\n",
       "        vertical-align: top;\n",
       "    }\n",
       "\n",
       "    .dataframe thead th {\n",
       "        text-align: right;\n",
       "    }\n",
       "</style>\n",
       "<table border=\"1\" class=\"dataframe\">\n",
       "  <thead>\n",
       "    <tr style=\"text-align: right;\">\n",
       "      <th></th>\n",
       "      <th>Title</th>\n",
       "      <th>Ratings</th>\n",
       "      <th>Before_Price</th>\n",
       "      <th>After_Price</th>\n",
       "      <th>Image</th>\n",
       "    </tr>\n",
       "  </thead>\n",
       "  <tbody>\n",
       "    <tr>\n",
       "      <th>0</th>\n",
       "      <td>HP Chromebook 11 G9 EE 11.6\" Touchscreen Chrom...</td>\n",
       "      <td>13</td>\n",
       "      <td>NaN</td>\n",
       "      <td>253</td>\n",
       "      <td>https://m.media-amazon.com/images/I/61KUIjmfe7...</td>\n",
       "    </tr>\n",
       "    <tr>\n",
       "      <th>1</th>\n",
       "      <td>Lenovo Flex 14 2-in-1 Convertible Laptop, 14.0...</td>\n",
       "      <td>36</td>\n",
       "      <td>NaN</td>\n",
       "      <td>NaN</td>\n",
       "      <td>https://m.media-amazon.com/images/I/715abmjkZ9...</td>\n",
       "    </tr>\n",
       "    <tr>\n",
       "      <th>2</th>\n",
       "      <td>Dell Inspiron I7568 15.6 Inches 2-in-1 Convert...</td>\n",
       "      <td>70</td>\n",
       "      <td>NaN</td>\n",
       "      <td>699</td>\n",
       "      <td>https://m.media-amazon.com/images/I/219SR0BRbK...</td>\n",
       "    </tr>\n",
       "    <tr>\n",
       "      <th>3</th>\n",
       "      <td>Lenovo 11.0in IdeaPad Touch Duet 3 Chromebook,...</td>\n",
       "      <td>4</td>\n",
       "      <td>NaN</td>\n",
       "      <td>349</td>\n",
       "      <td>https://m.media-amazon.com/images/I/61RR-jHl0y...</td>\n",
       "    </tr>\n",
       "    <tr>\n",
       "      <th>4</th>\n",
       "      <td>HP X360 2 in 1 Laptop 14\" Touch-Screen FHD IPS...</td>\n",
       "      <td>63</td>\n",
       "      <td>NaN</td>\n",
       "      <td>409</td>\n",
       "      <td>https://m.media-amazon.com/images/I/71cUi8u8KT...</td>\n",
       "    </tr>\n",
       "  </tbody>\n",
       "</table>\n",
       "</div>"
      ],
      "text/plain": [
       "                                               Title Ratings Before_Price  \\\n",
       "0  HP Chromebook 11 G9 EE 11.6\" Touchscreen Chrom...      13          NaN   \n",
       "1  Lenovo Flex 14 2-in-1 Convertible Laptop, 14.0...      36          NaN   \n",
       "2  Dell Inspiron I7568 15.6 Inches 2-in-1 Convert...      70          NaN   \n",
       "3  Lenovo 11.0in IdeaPad Touch Duet 3 Chromebook,...       4          NaN   \n",
       "4  HP X360 2 in 1 Laptop 14\" Touch-Screen FHD IPS...      63          NaN   \n",
       "\n",
       "  After_Price                                              Image  \n",
       "0         253  https://m.media-amazon.com/images/I/61KUIjmfe7...  \n",
       "1         NaN  https://m.media-amazon.com/images/I/715abmjkZ9...  \n",
       "2         699  https://m.media-amazon.com/images/I/219SR0BRbK...  \n",
       "3         349  https://m.media-amazon.com/images/I/61RR-jHl0y...  \n",
       "4         409  https://m.media-amazon.com/images/I/71cUi8u8KT...  "
      ]
     },
     "execution_count": 74,
     "metadata": {},
     "output_type": "execute_result"
    }
   ],
   "source": [
    "tablet.head()"
   ]
  },
  {
   "cell_type": "code",
   "execution_count": 75,
   "id": "7ef81a90",
   "metadata": {},
   "outputs": [
    {
     "data": {
      "text/plain": [
       "(Title             0\n",
       " Ratings         106\n",
       " Before_Price     52\n",
       " After_Price      21\n",
       " Image             0\n",
       " dtype: int64,\n",
       " Title            0\n",
       " Ratings         44\n",
       " Before_Price    84\n",
       " After_Price     17\n",
       " Image            0\n",
       " dtype: int64,\n",
       " Title            0\n",
       " Ratings        172\n",
       " After_Price     39\n",
       " Image            0\n",
       " dtype: int64)"
      ]
     },
     "execution_count": 75,
     "metadata": {},
     "output_type": "execute_result"
    }
   ],
   "source": [
    "phone.isnull().sum(),tablet.isnull().sum(),laptop.isnull().sum()"
   ]
  },
  {
   "cell_type": "code",
   "execution_count": 76,
   "id": "ca0c9b33",
   "metadata": {},
   "outputs": [],
   "source": [
    "phone.dropna(inplace=True)\n"
   ]
  },
  {
   "cell_type": "code",
   "execution_count": 77,
   "id": "5aae7000",
   "metadata": {},
   "outputs": [
    {
     "data": {
      "text/plain": [
       "Title           0\n",
       "Ratings         0\n",
       "Before_Price    0\n",
       "After_Price     0\n",
       "Image           0\n",
       "dtype: int64"
      ]
     },
     "execution_count": 77,
     "metadata": {},
     "output_type": "execute_result"
    }
   ],
   "source": [
    "phone.isnull().sum()"
   ]
  },
  {
   "cell_type": "code",
   "execution_count": 78,
   "id": "a252c91a",
   "metadata": {},
   "outputs": [
    {
     "data": {
      "text/plain": [
       "Title          0\n",
       "Ratings        0\n",
       "After_Price    0\n",
       "Image          0\n",
       "dtype: int64"
      ]
     },
     "execution_count": 78,
     "metadata": {},
     "output_type": "execute_result"
    }
   ],
   "source": [
    "laptop.dropna(inplace=True)\n",
    "laptop.isnull().sum()"
   ]
  },
  {
   "cell_type": "code",
   "execution_count": 79,
   "id": "23a5a738",
   "metadata": {},
   "outputs": [
    {
     "data": {
      "text/plain": [
       "Title           0\n",
       "Ratings         0\n",
       "Before_Price    0\n",
       "After_Price     0\n",
       "Image           0\n",
       "dtype: int64"
      ]
     },
     "execution_count": 79,
     "metadata": {},
     "output_type": "execute_result"
    }
   ],
   "source": [
    "tablet.dropna(inplace=True)\n",
    "tablet.isnull().sum()"
   ]
  },
  {
   "cell_type": "code",
   "execution_count": 80,
   "id": "9395d908",
   "metadata": {},
   "outputs": [
    {
     "data": {
      "text/plain": [
       "((8, 5), (397, 4), (2844, 5))"
      ]
     },
     "execution_count": 80,
     "metadata": {},
     "output_type": "execute_result"
    }
   ],
   "source": [
    "tablet.shape,laptop.shape,phone.shape"
   ]
  },
  {
   "cell_type": "code",
   "execution_count": 81,
   "id": "0b048ee1",
   "metadata": {},
   "outputs": [
    {
     "data": {
      "text/html": [
       "<div>\n",
       "<style scoped>\n",
       "    .dataframe tbody tr th:only-of-type {\n",
       "        vertical-align: middle;\n",
       "    }\n",
       "\n",
       "    .dataframe tbody tr th {\n",
       "        vertical-align: top;\n",
       "    }\n",
       "\n",
       "    .dataframe thead th {\n",
       "        text-align: right;\n",
       "    }\n",
       "</style>\n",
       "<table border=\"1\" class=\"dataframe\">\n",
       "  <thead>\n",
       "    <tr style=\"text-align: right;\">\n",
       "      <th></th>\n",
       "      <th>Title</th>\n",
       "      <th>Ratings</th>\n",
       "      <th>Before_Price</th>\n",
       "      <th>After_Price</th>\n",
       "      <th>Image</th>\n",
       "    </tr>\n",
       "  </thead>\n",
       "  <tbody>\n",
       "    <tr>\n",
       "      <th>15</th>\n",
       "      <td>Gateway Newest Touchscreen 11.6 HD 2-in-1 Conv...</td>\n",
       "      <td>1,200</td>\n",
       "      <td>$213.99</td>\n",
       "      <td>200</td>\n",
       "      <td>https://m.media-amazon.com/images/I/51LQKOGBqd...</td>\n",
       "    </tr>\n",
       "    <tr>\n",
       "      <th>18</th>\n",
       "      <td>ASUS Chromebook Flip C434 2-In-1 Laptop, 14\" F...</td>\n",
       "      <td>1,790</td>\n",
       "      <td>$504.99</td>\n",
       "      <td>363</td>\n",
       "      <td>https://m.media-amazon.com/images/I/81C9wMt+Q1...</td>\n",
       "    </tr>\n",
       "    <tr>\n",
       "      <th>27</th>\n",
       "      <td>HP EliteBook Revolve 810 G3 11.6 Inch Tablet P...</td>\n",
       "      <td>6</td>\n",
       "      <td>$399.00</td>\n",
       "      <td>298</td>\n",
       "      <td>https://m.media-amazon.com/images/I/41-6t2zKGe...</td>\n",
       "    </tr>\n",
       "    <tr>\n",
       "      <th>40</th>\n",
       "      <td>HP Stream 14-inch Laptop for Student and Busin...</td>\n",
       "      <td>6</td>\n",
       "      <td>$259.99</td>\n",
       "      <td>239</td>\n",
       "      <td>https://m.media-amazon.com/images/I/7102Zh8BY2...</td>\n",
       "    </tr>\n",
       "    <tr>\n",
       "      <th>43</th>\n",
       "      <td>HP Chromebook x360 14c-cc0013dx 14 inch FHD 2 ...</td>\n",
       "      <td>976</td>\n",
       "      <td>$269.90</td>\n",
       "      <td>249</td>\n",
       "      <td>https://m.media-amazon.com/images/I/71Ghya-X9t...</td>\n",
       "    </tr>\n",
       "    <tr>\n",
       "      <th>50</th>\n",
       "      <td>HP Stream 14 HD (1366x768) Display, Intel Cele...</td>\n",
       "      <td>14</td>\n",
       "      <td>$389.00</td>\n",
       "      <td>349</td>\n",
       "      <td>https://m.media-amazon.com/images/I/91+ccBQYgW...</td>\n",
       "    </tr>\n",
       "    <tr>\n",
       "      <th>64</th>\n",
       "      <td>HP Newest 13th Generation Envy 2-in-1 Laptop, ...</td>\n",
       "      <td>6</td>\n",
       "      <td>$1,219.00</td>\n",
       "      <td>1,149</td>\n",
       "      <td>https://m.media-amazon.com/images/I/61SubielAy...</td>\n",
       "    </tr>\n",
       "    <tr>\n",
       "      <th>80</th>\n",
       "      <td>HP 11-v010wm 11.6\" Chromebook, Chrome, Intel C...</td>\n",
       "      <td>5</td>\n",
       "      <td>$179.00</td>\n",
       "      <td>99</td>\n",
       "      <td>https://m.media-amazon.com/images/I/71HGSzOR3y...</td>\n",
       "    </tr>\n",
       "  </tbody>\n",
       "</table>\n",
       "</div>"
      ],
      "text/plain": [
       "                                                Title Ratings Before_Price  \\\n",
       "15  Gateway Newest Touchscreen 11.6 HD 2-in-1 Conv...   1,200      $213.99   \n",
       "18  ASUS Chromebook Flip C434 2-In-1 Laptop, 14\" F...   1,790      $504.99   \n",
       "27  HP EliteBook Revolve 810 G3 11.6 Inch Tablet P...       6      $399.00   \n",
       "40  HP Stream 14-inch Laptop for Student and Busin...       6      $259.99   \n",
       "43  HP Chromebook x360 14c-cc0013dx 14 inch FHD 2 ...     976      $269.90   \n",
       "50  HP Stream 14 HD (1366x768) Display, Intel Cele...      14      $389.00   \n",
       "64  HP Newest 13th Generation Envy 2-in-1 Laptop, ...       6    $1,219.00   \n",
       "80  HP 11-v010wm 11.6\" Chromebook, Chrome, Intel C...       5      $179.00   \n",
       "\n",
       "   After_Price                                              Image  \n",
       "15         200  https://m.media-amazon.com/images/I/51LQKOGBqd...  \n",
       "18         363  https://m.media-amazon.com/images/I/81C9wMt+Q1...  \n",
       "27         298  https://m.media-amazon.com/images/I/41-6t2zKGe...  \n",
       "40         239  https://m.media-amazon.com/images/I/7102Zh8BY2...  \n",
       "43         249  https://m.media-amazon.com/images/I/71Ghya-X9t...  \n",
       "50         349  https://m.media-amazon.com/images/I/91+ccBQYgW...  \n",
       "64       1,149  https://m.media-amazon.com/images/I/61SubielAy...  \n",
       "80          99  https://m.media-amazon.com/images/I/71HGSzOR3y...  "
      ]
     },
     "execution_count": 81,
     "metadata": {},
     "output_type": "execute_result"
    }
   ],
   "source": [
    "tablet"
   ]
  },
  {
   "cell_type": "code",
   "execution_count": 82,
   "id": "128774d4",
   "metadata": {},
   "outputs": [
    {
     "data": {
      "text/html": [
       "<div>\n",
       "<style scoped>\n",
       "    .dataframe tbody tr th:only-of-type {\n",
       "        vertical-align: middle;\n",
       "    }\n",
       "\n",
       "    .dataframe tbody tr th {\n",
       "        vertical-align: top;\n",
       "    }\n",
       "\n",
       "    .dataframe thead th {\n",
       "        text-align: right;\n",
       "    }\n",
       "</style>\n",
       "<table border=\"1\" class=\"dataframe\">\n",
       "  <thead>\n",
       "    <tr style=\"text-align: right;\">\n",
       "      <th></th>\n",
       "      <th>Title</th>\n",
       "      <th>Ratings</th>\n",
       "      <th>After_Price</th>\n",
       "      <th>Image</th>\n",
       "    </tr>\n",
       "  </thead>\n",
       "  <tbody>\n",
       "    <tr>\n",
       "      <th>count</th>\n",
       "      <td>397</td>\n",
       "      <td>397</td>\n",
       "      <td>397</td>\n",
       "      <td>397</td>\n",
       "    </tr>\n",
       "    <tr>\n",
       "      <th>unique</th>\n",
       "      <td>397</td>\n",
       "      <td>139</td>\n",
       "      <td>239</td>\n",
       "      <td>394</td>\n",
       "    </tr>\n",
       "    <tr>\n",
       "      <th>top</th>\n",
       "      <td>Hp Everyday Essential 17 FHD Laptop • Free Mic...</td>\n",
       "      <td>1</td>\n",
       "      <td>549</td>\n",
       "      <td>https://m.media-amazon.com/images/I/81QPOujfrC...</td>\n",
       "    </tr>\n",
       "    <tr>\n",
       "      <th>freq</th>\n",
       "      <td>1</td>\n",
       "      <td>51</td>\n",
       "      <td>8</td>\n",
       "      <td>2</td>\n",
       "    </tr>\n",
       "  </tbody>\n",
       "</table>\n",
       "</div>"
      ],
      "text/plain": [
       "                                                    Title Ratings After_Price  \\\n",
       "count                                                 397     397         397   \n",
       "unique                                                397     139         239   \n",
       "top     Hp Everyday Essential 17 FHD Laptop • Free Mic...       1         549   \n",
       "freq                                                    1      51           8   \n",
       "\n",
       "                                                    Image  \n",
       "count                                                 397  \n",
       "unique                                                394  \n",
       "top     https://m.media-amazon.com/images/I/81QPOujfrC...  \n",
       "freq                                                    2  "
      ]
     },
     "execution_count": 82,
     "metadata": {},
     "output_type": "execute_result"
    }
   ],
   "source": [
    "laptop.describe()"
   ]
  },
  {
   "cell_type": "code",
   "execution_count": 83,
   "id": "5b90d149",
   "metadata": {},
   "outputs": [
    {
     "name": "stdout",
     "output_type": "stream",
     "text": [
      "<class 'pandas.core.frame.DataFrame'>\n",
      "Index: 397 entries, 0 to 599\n",
      "Data columns (total 4 columns):\n",
      " #   Column       Non-Null Count  Dtype \n",
      "---  ------       --------------  ----- \n",
      " 0   Title        397 non-null    object\n",
      " 1   Ratings      397 non-null    object\n",
      " 2   After_Price  397 non-null    object\n",
      " 3   Image        397 non-null    object\n",
      "dtypes: object(4)\n",
      "memory usage: 15.5+ KB\n"
     ]
    }
   ],
   "source": [
    "laptop.info()"
   ]
  },
  {
   "cell_type": "code",
   "execution_count": 84,
   "id": "6bf7ee47",
   "metadata": {},
   "outputs": [],
   "source": [
    "k = 84\n"
   ]
  },
  {
   "cell_type": "code",
   "execution_count": 85,
   "id": "e80a9967",
   "metadata": {},
   "outputs": [
    {
     "name": "stdout",
     "output_type": "stream",
     "text": [
      "<class 'pandas.core.series.Series'>\n"
     ]
    }
   ],
   "source": [
    "print(type(laptop['After_Price']))"
   ]
  },
  {
   "cell_type": "code",
   "execution_count": 86,
   "id": "b0e75951",
   "metadata": {},
   "outputs": [],
   "source": [
    "import re"
   ]
  },
  {
   "cell_type": "code",
   "execution_count": 87,
   "id": "cba9c6b0",
   "metadata": {},
   "outputs": [],
   "source": [
    "def cleaning(x):\n",
    "    x = re.sub(r',', '', x)  # Remove commas\n",
    "    return x\n",
    "\n",
    "# Apply the cleaning function\n",
    "laptop['After_Price'] = laptop['After_Price'].apply(cleaning)\n",
    "tablet['After_Price'] = tablet['After_Price'].apply(cleaning)\n",
    "\n",
    "# Convert the cleaned 'After_Price' columns to integer\n",
    "laptop['After_Price'] = laptop['After_Price'].astype(int)\n",
    "tablet['After_Price'] = tablet['After_Price'].astype(int)"
   ]
  },
  {
   "cell_type": "code",
   "execution_count": 88,
   "id": "b4d6ea96",
   "metadata": {},
   "outputs": [
    {
     "data": {
      "text/html": [
       "<div>\n",
       "<style scoped>\n",
       "    .dataframe tbody tr th:only-of-type {\n",
       "        vertical-align: middle;\n",
       "    }\n",
       "\n",
       "    .dataframe tbody tr th {\n",
       "        vertical-align: top;\n",
       "    }\n",
       "\n",
       "    .dataframe thead th {\n",
       "        text-align: right;\n",
       "    }\n",
       "</style>\n",
       "<table border=\"1\" class=\"dataframe\">\n",
       "  <thead>\n",
       "    <tr style=\"text-align: right;\">\n",
       "      <th></th>\n",
       "      <th>Title</th>\n",
       "      <th>Ratings</th>\n",
       "      <th>Before_Price</th>\n",
       "      <th>After_Price</th>\n",
       "      <th>Image</th>\n",
       "    </tr>\n",
       "  </thead>\n",
       "  <tbody>\n",
       "    <tr>\n",
       "      <th>15</th>\n",
       "      <td>Gateway Newest Touchscreen 11.6 HD 2-in-1 Conv...</td>\n",
       "      <td>1,200</td>\n",
       "      <td>$213.99</td>\n",
       "      <td>200</td>\n",
       "      <td>https://m.media-amazon.com/images/I/51LQKOGBqd...</td>\n",
       "    </tr>\n",
       "    <tr>\n",
       "      <th>18</th>\n",
       "      <td>ASUS Chromebook Flip C434 2-In-1 Laptop, 14\" F...</td>\n",
       "      <td>1,790</td>\n",
       "      <td>$504.99</td>\n",
       "      <td>363</td>\n",
       "      <td>https://m.media-amazon.com/images/I/81C9wMt+Q1...</td>\n",
       "    </tr>\n",
       "    <tr>\n",
       "      <th>27</th>\n",
       "      <td>HP EliteBook Revolve 810 G3 11.6 Inch Tablet P...</td>\n",
       "      <td>6</td>\n",
       "      <td>$399.00</td>\n",
       "      <td>298</td>\n",
       "      <td>https://m.media-amazon.com/images/I/41-6t2zKGe...</td>\n",
       "    </tr>\n",
       "    <tr>\n",
       "      <th>40</th>\n",
       "      <td>HP Stream 14-inch Laptop for Student and Busin...</td>\n",
       "      <td>6</td>\n",
       "      <td>$259.99</td>\n",
       "      <td>239</td>\n",
       "      <td>https://m.media-amazon.com/images/I/7102Zh8BY2...</td>\n",
       "    </tr>\n",
       "    <tr>\n",
       "      <th>43</th>\n",
       "      <td>HP Chromebook x360 14c-cc0013dx 14 inch FHD 2 ...</td>\n",
       "      <td>976</td>\n",
       "      <td>$269.90</td>\n",
       "      <td>249</td>\n",
       "      <td>https://m.media-amazon.com/images/I/71Ghya-X9t...</td>\n",
       "    </tr>\n",
       "  </tbody>\n",
       "</table>\n",
       "</div>"
      ],
      "text/plain": [
       "                                                Title Ratings Before_Price  \\\n",
       "15  Gateway Newest Touchscreen 11.6 HD 2-in-1 Conv...   1,200      $213.99   \n",
       "18  ASUS Chromebook Flip C434 2-In-1 Laptop, 14\" F...   1,790      $504.99   \n",
       "27  HP EliteBook Revolve 810 G3 11.6 Inch Tablet P...       6      $399.00   \n",
       "40  HP Stream 14-inch Laptop for Student and Busin...       6      $259.99   \n",
       "43  HP Chromebook x360 14c-cc0013dx 14 inch FHD 2 ...     976      $269.90   \n",
       "\n",
       "    After_Price                                              Image  \n",
       "15          200  https://m.media-amazon.com/images/I/51LQKOGBqd...  \n",
       "18          363  https://m.media-amazon.com/images/I/81C9wMt+Q1...  \n",
       "27          298  https://m.media-amazon.com/images/I/41-6t2zKGe...  \n",
       "40          239  https://m.media-amazon.com/images/I/7102Zh8BY2...  \n",
       "43          249  https://m.media-amazon.com/images/I/71Ghya-X9t...  "
      ]
     },
     "execution_count": 88,
     "metadata": {},
     "output_type": "execute_result"
    }
   ],
   "source": [
    "tablet.head()"
   ]
  },
  {
   "cell_type": "code",
   "execution_count": 89,
   "id": "2ea3aab9",
   "metadata": {},
   "outputs": [
    {
     "data": {
      "text/html": [
       "<div>\n",
       "<style scoped>\n",
       "    .dataframe tbody tr th:only-of-type {\n",
       "        vertical-align: middle;\n",
       "    }\n",
       "\n",
       "    .dataframe tbody tr th {\n",
       "        vertical-align: top;\n",
       "    }\n",
       "\n",
       "    .dataframe thead th {\n",
       "        text-align: right;\n",
       "    }\n",
       "</style>\n",
       "<table border=\"1\" class=\"dataframe\">\n",
       "  <thead>\n",
       "    <tr style=\"text-align: right;\">\n",
       "      <th></th>\n",
       "      <th>Title</th>\n",
       "      <th>Ratings</th>\n",
       "      <th>After_Price</th>\n",
       "      <th>Image</th>\n",
       "    </tr>\n",
       "  </thead>\n",
       "  <tbody>\n",
       "    <tr>\n",
       "      <th>0</th>\n",
       "      <td>Hp Everyday Essential 17 FHD Laptop • Free Mic...</td>\n",
       "      <td>72</td>\n",
       "      <td>699</td>\n",
       "      <td>https://m.media-amazon.com/images/I/818CTxQVMH...</td>\n",
       "    </tr>\n",
       "    <tr>\n",
       "      <th>1</th>\n",
       "      <td>Lenovo 11.6\" 300e Chromebook Touchscreen LCD 2...</td>\n",
       "      <td>2,037</td>\n",
       "      <td>94</td>\n",
       "      <td>https://m.media-amazon.com/images/I/812k3mDHXj...</td>\n",
       "    </tr>\n",
       "    <tr>\n",
       "      <th>2</th>\n",
       "      <td>ASUS C424MA-AS48F Chromebook C424, 14.0\" 180 D...</td>\n",
       "      <td>307</td>\n",
       "      <td>199</td>\n",
       "      <td>https://m.media-amazon.com/images/I/71DL+S6ihB...</td>\n",
       "    </tr>\n",
       "    <tr>\n",
       "      <th>3</th>\n",
       "      <td>HP Victus 15 Gaming Laptop, 15.6\" FHD 144Hz Di...</td>\n",
       "      <td>619</td>\n",
       "      <td>647</td>\n",
       "      <td>https://m.media-amazon.com/images/I/71juF7A+Ms...</td>\n",
       "    </tr>\n",
       "    <tr>\n",
       "      <th>4</th>\n",
       "      <td>Lenovo Newest Flagship Chromebook, 14'' FHD To...</td>\n",
       "      <td>292</td>\n",
       "      <td>235</td>\n",
       "      <td>https://m.media-amazon.com/images/I/61KlKRdsQ7...</td>\n",
       "    </tr>\n",
       "  </tbody>\n",
       "</table>\n",
       "</div>"
      ],
      "text/plain": [
       "                                               Title Ratings  After_Price  \\\n",
       "0  Hp Everyday Essential 17 FHD Laptop • Free Mic...      72          699   \n",
       "1  Lenovo 11.6\" 300e Chromebook Touchscreen LCD 2...   2,037           94   \n",
       "2  ASUS C424MA-AS48F Chromebook C424, 14.0\" 180 D...     307          199   \n",
       "3  HP Victus 15 Gaming Laptop, 15.6\" FHD 144Hz Di...     619          647   \n",
       "4  Lenovo Newest Flagship Chromebook, 14'' FHD To...     292          235   \n",
       "\n",
       "                                               Image  \n",
       "0  https://m.media-amazon.com/images/I/818CTxQVMH...  \n",
       "1  https://m.media-amazon.com/images/I/812k3mDHXj...  \n",
       "2  https://m.media-amazon.com/images/I/71DL+S6ihB...  \n",
       "3  https://m.media-amazon.com/images/I/71juF7A+Ms...  \n",
       "4  https://m.media-amazon.com/images/I/61KlKRdsQ7...  "
      ]
     },
     "execution_count": 89,
     "metadata": {},
     "output_type": "execute_result"
    }
   ],
   "source": [
    "laptop.head()"
   ]
  },
  {
   "cell_type": "code",
   "execution_count": 90,
   "id": "6f4b9128",
   "metadata": {},
   "outputs": [],
   "source": [
    "# Apply the cleaning function\n",
    "laptop['After_Price'] = laptop['After_Price']*k\n",
    "tablet['After_Price'] = tablet['After_Price']*k\n"
   ]
  },
  {
   "cell_type": "code",
   "execution_count": 91,
   "id": "a32d9901",
   "metadata": {},
   "outputs": [
    {
     "data": {
      "text/html": [
       "<div>\n",
       "<style scoped>\n",
       "    .dataframe tbody tr th:only-of-type {\n",
       "        vertical-align: middle;\n",
       "    }\n",
       "\n",
       "    .dataframe tbody tr th {\n",
       "        vertical-align: top;\n",
       "    }\n",
       "\n",
       "    .dataframe thead th {\n",
       "        text-align: right;\n",
       "    }\n",
       "</style>\n",
       "<table border=\"1\" class=\"dataframe\">\n",
       "  <thead>\n",
       "    <tr style=\"text-align: right;\">\n",
       "      <th></th>\n",
       "      <th>Title</th>\n",
       "      <th>Ratings</th>\n",
       "      <th>After_Price</th>\n",
       "      <th>Image</th>\n",
       "    </tr>\n",
       "  </thead>\n",
       "  <tbody>\n",
       "    <tr>\n",
       "      <th>0</th>\n",
       "      <td>Hp Everyday Essential 17 FHD Laptop • Free Mic...</td>\n",
       "      <td>72</td>\n",
       "      <td>58716</td>\n",
       "      <td>https://m.media-amazon.com/images/I/818CTxQVMH...</td>\n",
       "    </tr>\n",
       "    <tr>\n",
       "      <th>1</th>\n",
       "      <td>Lenovo 11.6\" 300e Chromebook Touchscreen LCD 2...</td>\n",
       "      <td>2,037</td>\n",
       "      <td>7896</td>\n",
       "      <td>https://m.media-amazon.com/images/I/812k3mDHXj...</td>\n",
       "    </tr>\n",
       "    <tr>\n",
       "      <th>2</th>\n",
       "      <td>ASUS C424MA-AS48F Chromebook C424, 14.0\" 180 D...</td>\n",
       "      <td>307</td>\n",
       "      <td>16716</td>\n",
       "      <td>https://m.media-amazon.com/images/I/71DL+S6ihB...</td>\n",
       "    </tr>\n",
       "    <tr>\n",
       "      <th>3</th>\n",
       "      <td>HP Victus 15 Gaming Laptop, 15.6\" FHD 144Hz Di...</td>\n",
       "      <td>619</td>\n",
       "      <td>54348</td>\n",
       "      <td>https://m.media-amazon.com/images/I/71juF7A+Ms...</td>\n",
       "    </tr>\n",
       "    <tr>\n",
       "      <th>4</th>\n",
       "      <td>Lenovo Newest Flagship Chromebook, 14'' FHD To...</td>\n",
       "      <td>292</td>\n",
       "      <td>19740</td>\n",
       "      <td>https://m.media-amazon.com/images/I/61KlKRdsQ7...</td>\n",
       "    </tr>\n",
       "  </tbody>\n",
       "</table>\n",
       "</div>"
      ],
      "text/plain": [
       "                                               Title Ratings  After_Price  \\\n",
       "0  Hp Everyday Essential 17 FHD Laptop • Free Mic...      72        58716   \n",
       "1  Lenovo 11.6\" 300e Chromebook Touchscreen LCD 2...   2,037         7896   \n",
       "2  ASUS C424MA-AS48F Chromebook C424, 14.0\" 180 D...     307        16716   \n",
       "3  HP Victus 15 Gaming Laptop, 15.6\" FHD 144Hz Di...     619        54348   \n",
       "4  Lenovo Newest Flagship Chromebook, 14'' FHD To...     292        19740   \n",
       "\n",
       "                                               Image  \n",
       "0  https://m.media-amazon.com/images/I/818CTxQVMH...  \n",
       "1  https://m.media-amazon.com/images/I/812k3mDHXj...  \n",
       "2  https://m.media-amazon.com/images/I/71DL+S6ihB...  \n",
       "3  https://m.media-amazon.com/images/I/71juF7A+Ms...  \n",
       "4  https://m.media-amazon.com/images/I/61KlKRdsQ7...  "
      ]
     },
     "execution_count": 91,
     "metadata": {},
     "output_type": "execute_result"
    }
   ],
   "source": [
    "laptop.head()"
   ]
  },
  {
   "cell_type": "code",
   "execution_count": 92,
   "id": "24050ed2",
   "metadata": {},
   "outputs": [
    {
     "data": {
      "text/html": [
       "<div>\n",
       "<style scoped>\n",
       "    .dataframe tbody tr th:only-of-type {\n",
       "        vertical-align: middle;\n",
       "    }\n",
       "\n",
       "    .dataframe tbody tr th {\n",
       "        vertical-align: top;\n",
       "    }\n",
       "\n",
       "    .dataframe thead th {\n",
       "        text-align: right;\n",
       "    }\n",
       "</style>\n",
       "<table border=\"1\" class=\"dataframe\">\n",
       "  <thead>\n",
       "    <tr style=\"text-align: right;\">\n",
       "      <th></th>\n",
       "      <th>Title</th>\n",
       "      <th>Ratings</th>\n",
       "      <th>Before_Price</th>\n",
       "      <th>After_Price</th>\n",
       "      <th>Image</th>\n",
       "    </tr>\n",
       "  </thead>\n",
       "  <tbody>\n",
       "    <tr>\n",
       "      <th>15</th>\n",
       "      <td>Gateway Newest Touchscreen 11.6 HD 2-in-1 Conv...</td>\n",
       "      <td>1,200</td>\n",
       "      <td>$213.99</td>\n",
       "      <td>16800</td>\n",
       "      <td>https://m.media-amazon.com/images/I/51LQKOGBqd...</td>\n",
       "    </tr>\n",
       "    <tr>\n",
       "      <th>18</th>\n",
       "      <td>ASUS Chromebook Flip C434 2-In-1 Laptop, 14\" F...</td>\n",
       "      <td>1,790</td>\n",
       "      <td>$504.99</td>\n",
       "      <td>30492</td>\n",
       "      <td>https://m.media-amazon.com/images/I/81C9wMt+Q1...</td>\n",
       "    </tr>\n",
       "    <tr>\n",
       "      <th>27</th>\n",
       "      <td>HP EliteBook Revolve 810 G3 11.6 Inch Tablet P...</td>\n",
       "      <td>6</td>\n",
       "      <td>$399.00</td>\n",
       "      <td>25032</td>\n",
       "      <td>https://m.media-amazon.com/images/I/41-6t2zKGe...</td>\n",
       "    </tr>\n",
       "    <tr>\n",
       "      <th>40</th>\n",
       "      <td>HP Stream 14-inch Laptop for Student and Busin...</td>\n",
       "      <td>6</td>\n",
       "      <td>$259.99</td>\n",
       "      <td>20076</td>\n",
       "      <td>https://m.media-amazon.com/images/I/7102Zh8BY2...</td>\n",
       "    </tr>\n",
       "    <tr>\n",
       "      <th>43</th>\n",
       "      <td>HP Chromebook x360 14c-cc0013dx 14 inch FHD 2 ...</td>\n",
       "      <td>976</td>\n",
       "      <td>$269.90</td>\n",
       "      <td>20916</td>\n",
       "      <td>https://m.media-amazon.com/images/I/71Ghya-X9t...</td>\n",
       "    </tr>\n",
       "  </tbody>\n",
       "</table>\n",
       "</div>"
      ],
      "text/plain": [
       "                                                Title Ratings Before_Price  \\\n",
       "15  Gateway Newest Touchscreen 11.6 HD 2-in-1 Conv...   1,200      $213.99   \n",
       "18  ASUS Chromebook Flip C434 2-In-1 Laptop, 14\" F...   1,790      $504.99   \n",
       "27  HP EliteBook Revolve 810 G3 11.6 Inch Tablet P...       6      $399.00   \n",
       "40  HP Stream 14-inch Laptop for Student and Busin...       6      $259.99   \n",
       "43  HP Chromebook x360 14c-cc0013dx 14 inch FHD 2 ...     976      $269.90   \n",
       "\n",
       "    After_Price                                              Image  \n",
       "15        16800  https://m.media-amazon.com/images/I/51LQKOGBqd...  \n",
       "18        30492  https://m.media-amazon.com/images/I/81C9wMt+Q1...  \n",
       "27        25032  https://m.media-amazon.com/images/I/41-6t2zKGe...  \n",
       "40        20076  https://m.media-amazon.com/images/I/7102Zh8BY2...  \n",
       "43        20916  https://m.media-amazon.com/images/I/71Ghya-X9t...  "
      ]
     },
     "execution_count": 92,
     "metadata": {},
     "output_type": "execute_result"
    }
   ],
   "source": [
    "tablet.head()"
   ]
  },
  {
   "cell_type": "code",
   "execution_count": 93,
   "id": "fd1877aa",
   "metadata": {},
   "outputs": [],
   "source": [
    "tablet.drop(columns='Before_Price',inplace=True)\n"
   ]
  },
  {
   "cell_type": "code",
   "execution_count": 94,
   "id": "a0b4cc56",
   "metadata": {},
   "outputs": [
    {
     "data": {
      "text/html": [
       "<div>\n",
       "<style scoped>\n",
       "    .dataframe tbody tr th:only-of-type {\n",
       "        vertical-align: middle;\n",
       "    }\n",
       "\n",
       "    .dataframe tbody tr th {\n",
       "        vertical-align: top;\n",
       "    }\n",
       "\n",
       "    .dataframe thead th {\n",
       "        text-align: right;\n",
       "    }\n",
       "</style>\n",
       "<table border=\"1\" class=\"dataframe\">\n",
       "  <thead>\n",
       "    <tr style=\"text-align: right;\">\n",
       "      <th></th>\n",
       "      <th>Title</th>\n",
       "      <th>Ratings</th>\n",
       "      <th>After_Price</th>\n",
       "      <th>Image</th>\n",
       "    </tr>\n",
       "  </thead>\n",
       "  <tbody>\n",
       "    <tr>\n",
       "      <th>15</th>\n",
       "      <td>Gateway Newest Touchscreen 11.6 HD 2-in-1 Conv...</td>\n",
       "      <td>1,200</td>\n",
       "      <td>16800</td>\n",
       "      <td>https://m.media-amazon.com/images/I/51LQKOGBqd...</td>\n",
       "    </tr>\n",
       "    <tr>\n",
       "      <th>18</th>\n",
       "      <td>ASUS Chromebook Flip C434 2-In-1 Laptop, 14\" F...</td>\n",
       "      <td>1,790</td>\n",
       "      <td>30492</td>\n",
       "      <td>https://m.media-amazon.com/images/I/81C9wMt+Q1...</td>\n",
       "    </tr>\n",
       "    <tr>\n",
       "      <th>27</th>\n",
       "      <td>HP EliteBook Revolve 810 G3 11.6 Inch Tablet P...</td>\n",
       "      <td>6</td>\n",
       "      <td>25032</td>\n",
       "      <td>https://m.media-amazon.com/images/I/41-6t2zKGe...</td>\n",
       "    </tr>\n",
       "    <tr>\n",
       "      <th>40</th>\n",
       "      <td>HP Stream 14-inch Laptop for Student and Busin...</td>\n",
       "      <td>6</td>\n",
       "      <td>20076</td>\n",
       "      <td>https://m.media-amazon.com/images/I/7102Zh8BY2...</td>\n",
       "    </tr>\n",
       "    <tr>\n",
       "      <th>43</th>\n",
       "      <td>HP Chromebook x360 14c-cc0013dx 14 inch FHD 2 ...</td>\n",
       "      <td>976</td>\n",
       "      <td>20916</td>\n",
       "      <td>https://m.media-amazon.com/images/I/71Ghya-X9t...</td>\n",
       "    </tr>\n",
       "  </tbody>\n",
       "</table>\n",
       "</div>"
      ],
      "text/plain": [
       "                                                Title Ratings  After_Price  \\\n",
       "15  Gateway Newest Touchscreen 11.6 HD 2-in-1 Conv...   1,200        16800   \n",
       "18  ASUS Chromebook Flip C434 2-In-1 Laptop, 14\" F...   1,790        30492   \n",
       "27  HP EliteBook Revolve 810 G3 11.6 Inch Tablet P...       6        25032   \n",
       "40  HP Stream 14-inch Laptop for Student and Busin...       6        20076   \n",
       "43  HP Chromebook x360 14c-cc0013dx 14 inch FHD 2 ...     976        20916   \n",
       "\n",
       "                                                Image  \n",
       "15  https://m.media-amazon.com/images/I/51LQKOGBqd...  \n",
       "18  https://m.media-amazon.com/images/I/81C9wMt+Q1...  \n",
       "27  https://m.media-amazon.com/images/I/41-6t2zKGe...  \n",
       "40  https://m.media-amazon.com/images/I/7102Zh8BY2...  \n",
       "43  https://m.media-amazon.com/images/I/71Ghya-X9t...  "
      ]
     },
     "execution_count": 94,
     "metadata": {},
     "output_type": "execute_result"
    }
   ],
   "source": [
    "tablet.head()"
   ]
  },
  {
   "cell_type": "code",
   "execution_count": 95,
   "id": "0c5ea7ca",
   "metadata": {},
   "outputs": [
    {
     "data": {
      "text/html": [
       "<div>\n",
       "<style scoped>\n",
       "    .dataframe tbody tr th:only-of-type {\n",
       "        vertical-align: middle;\n",
       "    }\n",
       "\n",
       "    .dataframe tbody tr th {\n",
       "        vertical-align: top;\n",
       "    }\n",
       "\n",
       "    .dataframe thead th {\n",
       "        text-align: right;\n",
       "    }\n",
       "</style>\n",
       "<table border=\"1\" class=\"dataframe\">\n",
       "  <thead>\n",
       "    <tr style=\"text-align: right;\">\n",
       "      <th></th>\n",
       "      <th>Title</th>\n",
       "      <th>Ratings</th>\n",
       "      <th>After_Price</th>\n",
       "      <th>Image</th>\n",
       "    </tr>\n",
       "  </thead>\n",
       "  <tbody>\n",
       "    <tr>\n",
       "      <th>0</th>\n",
       "      <td>Hp Everyday Essential 17 FHD Laptop • Free Mic...</td>\n",
       "      <td>72</td>\n",
       "      <td>58716</td>\n",
       "      <td>https://m.media-amazon.com/images/I/818CTxQVMH...</td>\n",
       "    </tr>\n",
       "  </tbody>\n",
       "</table>\n",
       "</div>"
      ],
      "text/plain": [
       "                                               Title Ratings  After_Price  \\\n",
       "0  Hp Everyday Essential 17 FHD Laptop • Free Mic...      72        58716   \n",
       "\n",
       "                                               Image  \n",
       "0  https://m.media-amazon.com/images/I/818CTxQVMH...  "
      ]
     },
     "execution_count": 95,
     "metadata": {},
     "output_type": "execute_result"
    }
   ],
   "source": [
    "laptop.head(1)"
   ]
  },
  {
   "cell_type": "code",
   "execution_count": 96,
   "id": "2fd70665",
   "metadata": {},
   "outputs": [
    {
     "data": {
      "text/html": [
       "<div>\n",
       "<style scoped>\n",
       "    .dataframe tbody tr th:only-of-type {\n",
       "        vertical-align: middle;\n",
       "    }\n",
       "\n",
       "    .dataframe tbody tr th {\n",
       "        vertical-align: top;\n",
       "    }\n",
       "\n",
       "    .dataframe thead th {\n",
       "        text-align: right;\n",
       "    }\n",
       "</style>\n",
       "<table border=\"1\" class=\"dataframe\">\n",
       "  <thead>\n",
       "    <tr style=\"text-align: right;\">\n",
       "      <th></th>\n",
       "      <th>Title</th>\n",
       "      <th>Ratings</th>\n",
       "      <th>After_Price</th>\n",
       "      <th>Image</th>\n",
       "    </tr>\n",
       "  </thead>\n",
       "  <tbody>\n",
       "    <tr>\n",
       "      <th>15</th>\n",
       "      <td>Gateway Newest Touchscreen 11.6 HD 2-in-1 Conv...</td>\n",
       "      <td>1,200</td>\n",
       "      <td>16800</td>\n",
       "      <td>https://m.media-amazon.com/images/I/51LQKOGBqd...</td>\n",
       "    </tr>\n",
       "  </tbody>\n",
       "</table>\n",
       "</div>"
      ],
      "text/plain": [
       "                                                Title Ratings  After_Price  \\\n",
       "15  Gateway Newest Touchscreen 11.6 HD 2-in-1 Conv...   1,200        16800   \n",
       "\n",
       "                                                Image  \n",
       "15  https://m.media-amazon.com/images/I/51LQKOGBqd...  "
      ]
     },
     "execution_count": 96,
     "metadata": {},
     "output_type": "execute_result"
    }
   ],
   "source": [
    "tablet.head(1)"
   ]
  },
  {
   "cell_type": "code",
   "execution_count": 97,
   "id": "da184978",
   "metadata": {},
   "outputs": [
    {
     "data": {
      "text/html": [
       "<div>\n",
       "<style scoped>\n",
       "    .dataframe tbody tr th:only-of-type {\n",
       "        vertical-align: middle;\n",
       "    }\n",
       "\n",
       "    .dataframe tbody tr th {\n",
       "        vertical-align: top;\n",
       "    }\n",
       "\n",
       "    .dataframe thead th {\n",
       "        text-align: right;\n",
       "    }\n",
       "</style>\n",
       "<table border=\"1\" class=\"dataframe\">\n",
       "  <thead>\n",
       "    <tr style=\"text-align: right;\">\n",
       "      <th></th>\n",
       "      <th>Title</th>\n",
       "      <th>Ratings</th>\n",
       "      <th>Before_Price</th>\n",
       "      <th>After_Price</th>\n",
       "      <th>Image</th>\n",
       "    </tr>\n",
       "  </thead>\n",
       "  <tbody>\n",
       "    <tr>\n",
       "      <th>0</th>\n",
       "      <td>realme GT Neo 3 (150W) (Sprint White, 12GB RAM...</td>\n",
       "      <td>551</td>\n",
       "      <td>₹45,999</td>\n",
       "      <td>24,749</td>\n",
       "      <td>https://m.media-amazon.com/images/I/51P-7qmHo6...</td>\n",
       "    </tr>\n",
       "  </tbody>\n",
       "</table>\n",
       "</div>"
      ],
      "text/plain": [
       "                                               Title Ratings Before_Price  \\\n",
       "0  realme GT Neo 3 (150W) (Sprint White, 12GB RAM...     551      ₹45,999   \n",
       "\n",
       "  After_Price                                              Image  \n",
       "0      24,749  https://m.media-amazon.com/images/I/51P-7qmHo6...  "
      ]
     },
     "execution_count": 97,
     "metadata": {},
     "output_type": "execute_result"
    }
   ],
   "source": [
    "phone.head(1)"
   ]
  },
  {
   "cell_type": "code",
   "execution_count": 98,
   "id": "febe98dd",
   "metadata": {},
   "outputs": [],
   "source": [
    "phone['After_Price']=phone['After_Price'].apply(cleaning)"
   ]
  },
  {
   "cell_type": "code",
   "execution_count": 99,
   "id": "7edd69d3",
   "metadata": {},
   "outputs": [],
   "source": [
    "phone['After_Price']=phone['After_Price'].astype(int)"
   ]
  },
  {
   "cell_type": "code",
   "execution_count": 100,
   "id": "1ae63219",
   "metadata": {},
   "outputs": [
    {
     "data": {
      "text/html": [
       "<div>\n",
       "<style scoped>\n",
       "    .dataframe tbody tr th:only-of-type {\n",
       "        vertical-align: middle;\n",
       "    }\n",
       "\n",
       "    .dataframe tbody tr th {\n",
       "        vertical-align: top;\n",
       "    }\n",
       "\n",
       "    .dataframe thead th {\n",
       "        text-align: right;\n",
       "    }\n",
       "</style>\n",
       "<table border=\"1\" class=\"dataframe\">\n",
       "  <thead>\n",
       "    <tr style=\"text-align: right;\">\n",
       "      <th></th>\n",
       "      <th>Title</th>\n",
       "      <th>Ratings</th>\n",
       "      <th>Before_Price</th>\n",
       "      <th>After_Price</th>\n",
       "      <th>Image</th>\n",
       "    </tr>\n",
       "  </thead>\n",
       "  <tbody>\n",
       "    <tr>\n",
       "      <th>0</th>\n",
       "      <td>realme GT Neo 3 (150W) (Sprint White, 12GB RAM...</td>\n",
       "      <td>551</td>\n",
       "      <td>₹45,999</td>\n",
       "      <td>24749</td>\n",
       "      <td>https://m.media-amazon.com/images/I/51P-7qmHo6...</td>\n",
       "    </tr>\n",
       "  </tbody>\n",
       "</table>\n",
       "</div>"
      ],
      "text/plain": [
       "                                               Title Ratings Before_Price  \\\n",
       "0  realme GT Neo 3 (150W) (Sprint White, 12GB RAM...     551      ₹45,999   \n",
       "\n",
       "   After_Price                                              Image  \n",
       "0        24749  https://m.media-amazon.com/images/I/51P-7qmHo6...  "
      ]
     },
     "execution_count": 100,
     "metadata": {},
     "output_type": "execute_result"
    }
   ],
   "source": [
    "phone.head(1)"
   ]
  },
  {
   "cell_type": "code",
   "execution_count": 101,
   "id": "a163a590",
   "metadata": {},
   "outputs": [],
   "source": [
    "phone.drop(columns='Before_Price',inplace=True)"
   ]
  },
  {
   "cell_type": "code",
   "execution_count": 102,
   "id": "946e623f",
   "metadata": {},
   "outputs": [
    {
     "data": {
      "text/html": [
       "<div>\n",
       "<style scoped>\n",
       "    .dataframe tbody tr th:only-of-type {\n",
       "        vertical-align: middle;\n",
       "    }\n",
       "\n",
       "    .dataframe tbody tr th {\n",
       "        vertical-align: top;\n",
       "    }\n",
       "\n",
       "    .dataframe thead th {\n",
       "        text-align: right;\n",
       "    }\n",
       "</style>\n",
       "<table border=\"1\" class=\"dataframe\">\n",
       "  <thead>\n",
       "    <tr style=\"text-align: right;\">\n",
       "      <th></th>\n",
       "      <th>Title</th>\n",
       "      <th>Ratings</th>\n",
       "      <th>After_Price</th>\n",
       "      <th>Image</th>\n",
       "    </tr>\n",
       "  </thead>\n",
       "  <tbody>\n",
       "    <tr>\n",
       "      <th>0</th>\n",
       "      <td>realme GT Neo 3 (150W) (Sprint White, 12GB RAM...</td>\n",
       "      <td>551</td>\n",
       "      <td>24749</td>\n",
       "      <td>https://m.media-amazon.com/images/I/51P-7qmHo6...</td>\n",
       "    </tr>\n",
       "  </tbody>\n",
       "</table>\n",
       "</div>"
      ],
      "text/plain": [
       "                                               Title Ratings  After_Price  \\\n",
       "0  realme GT Neo 3 (150W) (Sprint White, 12GB RAM...     551        24749   \n",
       "\n",
       "                                               Image  \n",
       "0  https://m.media-amazon.com/images/I/51P-7qmHo6...  "
      ]
     },
     "execution_count": 102,
     "metadata": {},
     "output_type": "execute_result"
    }
   ],
   "source": [
    "phone.head(1)"
   ]
  },
  {
   "cell_type": "code",
   "execution_count": 103,
   "id": "2418cc8d",
   "metadata": {},
   "outputs": [],
   "source": [
    "\n",
    "\n",
    "df=pd.concat([phone,laptop,tablet],ignore_index=True)\n",
    "\n",
    "df.to_excel('main.xlsx',index=False)"
   ]
  }
 ],
 "metadata": {
  "kernelspec": {
   "display_name": "base",
   "language": "python",
   "name": "python3"
  },
  "language_info": {
   "codemirror_mode": {
    "name": "ipython",
    "version": 3
   },
   "file_extension": ".py",
   "mimetype": "text/x-python",
   "name": "python",
   "nbconvert_exporter": "python",
   "pygments_lexer": "ipython3",
   "version": "3.10.14"
  }
 },
 "nbformat": 4,
 "nbformat_minor": 5
}
